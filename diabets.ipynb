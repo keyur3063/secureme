{
  "nbformat": 4,
  "nbformat_minor": 0,
  "metadata": {
    "colab": {
      "provenance": [],
      "authorship_tag": "ABX9TyNZIOWtaAPEw4bBlQP0jK1+",
      "include_colab_link": true
    },
    "kernelspec": {
      "name": "python3",
      "display_name": "Python 3"
    },
    "language_info": {
      "name": "python"
    }
  },
  "cells": [
    {
      "cell_type": "markdown",
      "metadata": {
        "id": "view-in-github",
        "colab_type": "text"
      },
      "source": [
        "<a href=\"https://colab.research.google.com/github/keyur3063/secureme/blob/main/diabets.ipynb\" target=\"_parent\"><img src=\"https://colab.research.google.com/assets/colab-badge.svg\" alt=\"Open In Colab\"/></a>"
      ]
    },
    {
      "cell_type": "code",
      "execution_count": 3,
      "metadata": {
        "id": "H80ViDt0F5bo"
      },
      "outputs": [],
      "source": [
        "import pandas as pd\n",
        "from sklearn.datasets import load_diabetes\n",
        "from sklearn.model_selection import train_test_split\n",
        "from sklearn.preprocessing import StandardScaler\n",
        "from sklearn.neighbors import KNeighborsClassifier\n",
        "from sklearn.linear_model import LinearRegression, LogisticRegression\n",
        "from sklearn.metrics import accuracy_score, mean_squared_error, r2_score, confusion_matrix"
      ]
    },
    {
      "cell_type": "code",
      "source": [
        "#load the diabetes dataset\n",
        "diabetes = load_diabetes()\n",
        "X = diabetes.data\n",
        "Y = diabetes.target"
      ],
      "metadata": {
        "id": "xfio9talIT9k"
      },
      "execution_count": 4,
      "outputs": []
    },
    {
      "cell_type": "code",
      "source": [
        "Y_binary = (Y> Y.mean()).astype(int)"
      ],
      "metadata": {
        "id": "EK8uewMuInEs"
      },
      "execution_count": 7,
      "outputs": []
    },
    {
      "cell_type": "code",
      "source": [
        "import pandas as pd\n",
        "from sklearn.datasets import load_diabetes\n",
        "from sklearn.model_selection import train_test_split\n",
        "from sklearn.preprocessing import StandardScaler\n",
        "from sklearn.neighbors import KNeighborsClassifier\n",
        "from sklearn.linear_model import LinearRegression\n",
        "from sklearn.linear_model import LogisticRegression, LogisticRegression\n",
        "from sklearn.metrics import classification_report\n",
        "from sklearn.metrics import accuracy_score, mean_squared_error, r2_score, confusion_matrix\n",
        "diabetes = load_diabetes()\n",
        "X = diabetes.data\n",
        "y = diabetes.target\n",
        "y_binary= y > y.mean().astype(int)\n",
        "X_train, X_test, y_train, y_test = train_test_split(X, y, test_size=0.3, random_state=42)\n",
        "X_train_bin, X_test_bin, y_train_bin, y_test_bin = train_test_split(X, y_binary, test_size=0.3, random_state=42)\n",
        "scaler = StandardScaler()\n",
        "X_train = scaler.fit_transform(X_train)\n",
        "X_test = scaler.transform(X_test)\n",
        "X_train_bin = scaler.fit_transform(X_train_bin)\n",
        "X_test_bin = scaler.transform(X_test_bin)\n",
        "knn = KNeighborsClassifier()\n",
        "linear_reg = LinearRegression()\n",
        "logistic_reg = LogisticRegression(max_iter=1000)\n",
        "knn.fit(X_train_bin, y_train_bin)\n",
        "knn_pred = knn.predict(X_test_bin)\n",
        "knn_accuracy = accuracy_score(y_test_bin, knn_pred)\n",
        "knn_conf_matrix = confusion_matrix(y_test_bin, knn_pred)\n",
        "knn_class_report = classification_report(y_test_bin, knn_pred)\n",
        "knn_conf_matrix = confusion_matrix(y_test, knn_pred)\n",
        "knn_class_report = classification_report(y_test_bin, knn_pred)\n",
        "linear_reg.fit(X_train, y_train)\n",
        "linear_pred = linear_reg.predict(X_test)\n",
        "linear_mse = mean_squared_error(y_test, linear_pred)\n",
        "linear_r2 = r2_score(y_test, linear_pred)\n",
        "logistic_reg.fit(X_train_bin, y_train_bin)\n",
        "logistic_pred = logistic_reg.predict(X_test_bin)\n",
        "logistic_accuracy = accuracy_score(y_test, logistic_pred)\n",
        "logistic_conf_matrix = confusion_matrix(y_test_bin, logistic_pred)\n",
        "logistic_class_report = classification_report(y_test_bin, logistic_pred)\n",
        "results = pd.DataFrame({\n",
        "    'Model': ['KNN', 'Linear Regression', 'Logistic Regression'],\n",
        "    'Accuracy': [knn_accuracy, linear_r2, logistic_accuracy],\n",
        "    'MSe': [None, linear_mse, None],\n",
        "    'R^2': [None, linear_r2, None],\n",
        "})\n",
        "print(results)"
      ],
      "metadata": {
        "colab": {
          "base_uri": "https://localhost:8080/"
        },
        "id": "yuSFQMzfO_n6",
        "outputId": "81ccbb07-287f-4d61-e231-702e3c3343d9"
      },
      "execution_count": 8,
      "outputs": [
        {
          "output_type": "stream",
          "name": "stdout",
          "text": [
            "                 Model  Accuracy          MSe      R^2\n",
            "0                  KNN  0.736842          NaN      NaN\n",
            "1    Linear Regression  0.477290  2821.750981  0.47729\n",
            "2  Logistic Regression  0.000000          NaN      NaN\n"
          ]
        }
      ]
    }
  ]
}